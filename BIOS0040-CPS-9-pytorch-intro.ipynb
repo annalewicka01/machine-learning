{
 "cells": [
  {
   "cell_type": "markdown",
   "id": "9a933b75-a164-44e3-a0dc-d6454254f90b",
   "metadata": {},
   "source": [
    "# Practical Session 9: Introduction to deep learning\n",
    "Aims:\n",
    "- To introduce the concepts of neural networks, back propagation and the training and test loops\n",
    "\n",
    "Context:<br>\n",
    "We will be following section some aspects of Section 5.2 in Stevens and Antiga"
   ]
  },
  {
   "cell_type": "code",
   "execution_count": 15,
   "id": "9caa8c2c-5c1f-4072-9d50-7159e94de31e",
   "metadata": {},
   "outputs": [
    {
     "name": "stderr",
     "output_type": "stream",
     "text": [
      "\n",
      "Usage:   \n",
      "  pip install [options] <requirement specifier> [package-index-options] ...\n",
      "  pip install [options] -r <requirements file> [package-index-options] ...\n",
      "  pip install [options] [-e] <vcs project url> ...\n",
      "  pip install [options] [-e] <local project path> ...\n",
      "  pip install [options] <archive url/path> ...\n",
      "\n",
      "no such option: --apt-packages\n"
     ]
    }
   ],
   "source": [
    "!pip install torch pytorch-xla-env-setup.py --version 1.7 --apt-packages libomp5 libopenblas-dev\n",
    "\n",
    "\n"
   ]
  },
  {
   "cell_type": "code",
   "execution_count": 12,
   "id": "a7916139-d6b3-4004-b1af-ca6080e89c6a",
   "metadata": {},
   "outputs": [],
   "source": [
    "import pandas as pd\n",
    "import numpy as np\n",
    "import seaborn as sb\n",
    "from matplotlib import pyplot as plt\n",
    "from sklearn.datasets import load_digits\n",
    "\n",
    "import torch"
   ]
  },
  {
   "cell_type": "markdown",
   "id": "c7c7eb10-507e-417b-bbed-744895220fa4",
   "metadata": {},
   "source": [
    "## Calibrating an analogue thermometer\n",
    "### The problem\n",
    "We just got back from a trip to some obscure location, and we brought back a fancy, wall-mounted analog thermometer. It looks great, and it’s a perfect fit for our living room. Its only flaw is that it doesn’t show units. Not to worry, we’ve got a plan: we’ll build a dataset of readings and corresponding temperature values in our favorite units, choose a model, adjust its weights iteratively until a measure of the error is low enough, and finally be able to interpret the new readings in units we understand.\n",
    "\n",
    "We’ll start by making a note of temperature data in good old Celsius5 and measurements from our new thermometer, and figure things out."
   ]
  },
  {
   "cell_type": "code",
   "execution_count": 13,
   "id": "f7567242-526f-4b83-87eb-988510087906",
   "metadata": {},
   "outputs": [
    {
     "ename": "RuntimeError",
     "evalue": "Numpy is not available",
     "output_type": "error",
     "traceback": [
      "\u001b[1;31m---------------------------------------------------------------------------\u001b[0m",
      "\u001b[1;31mRuntimeError\u001b[0m                              Traceback (most recent call last)",
      "Cell \u001b[1;32mIn [13], line 7\u001b[0m\n\u001b[0;32m      4\u001b[0m t_u \u001b[38;5;241m=\u001b[39m torch\u001b[38;5;241m.\u001b[39mtensor(t_u)\n\u001b[0;32m      6\u001b[0m fig, ax \u001b[38;5;241m=\u001b[39m plt\u001b[38;5;241m.\u001b[39msubplots()\n\u001b[1;32m----> 7\u001b[0m \u001b[43max\u001b[49m\u001b[38;5;241;43m.\u001b[39;49m\u001b[43mscatter\u001b[49m\u001b[43m(\u001b[49m\u001b[43mt_u\u001b[49m\u001b[43m,\u001b[49m\u001b[43mt_c\u001b[49m\u001b[43m)\u001b[49m;\n\u001b[0;32m      8\u001b[0m ax\u001b[38;5;241m.\u001b[39mset_xlabel(\u001b[38;5;124m\"\u001b[39m\u001b[38;5;124mmeasurement\u001b[39m\u001b[38;5;124m\"\u001b[39m)\n\u001b[0;32m      9\u001b[0m ax\u001b[38;5;241m.\u001b[39mset_ylabel(\u001b[38;5;124m\"\u001b[39m\u001b[38;5;124mtemperature (Celsius)\u001b[39m\u001b[38;5;124m\"\u001b[39m)\n",
      "File \u001b[1;32m~\\AppData\\Local\\Programs\\Python\\Python310\\lib\\site-packages\\matplotlib\\__init__.py:1423\u001b[0m, in \u001b[0;36m_preprocess_data.<locals>.inner\u001b[1;34m(ax, data, *args, **kwargs)\u001b[0m\n\u001b[0;32m   1420\u001b[0m \u001b[38;5;129m@functools\u001b[39m\u001b[38;5;241m.\u001b[39mwraps(func)\n\u001b[0;32m   1421\u001b[0m \u001b[38;5;28;01mdef\u001b[39;00m \u001b[38;5;21minner\u001b[39m(ax, \u001b[38;5;241m*\u001b[39margs, data\u001b[38;5;241m=\u001b[39m\u001b[38;5;28;01mNone\u001b[39;00m, \u001b[38;5;241m*\u001b[39m\u001b[38;5;241m*\u001b[39mkwargs):\n\u001b[0;32m   1422\u001b[0m     \u001b[38;5;28;01mif\u001b[39;00m data \u001b[38;5;129;01mis\u001b[39;00m \u001b[38;5;28;01mNone\u001b[39;00m:\n\u001b[1;32m-> 1423\u001b[0m         \u001b[38;5;28;01mreturn\u001b[39;00m func(ax, \u001b[38;5;241m*\u001b[39m\u001b[38;5;28mmap\u001b[39m(sanitize_sequence, args), \u001b[38;5;241m*\u001b[39m\u001b[38;5;241m*\u001b[39mkwargs)\n\u001b[0;32m   1425\u001b[0m     bound \u001b[38;5;241m=\u001b[39m new_sig\u001b[38;5;241m.\u001b[39mbind(ax, \u001b[38;5;241m*\u001b[39margs, \u001b[38;5;241m*\u001b[39m\u001b[38;5;241m*\u001b[39mkwargs)\n\u001b[0;32m   1426\u001b[0m     auto_label \u001b[38;5;241m=\u001b[39m (bound\u001b[38;5;241m.\u001b[39marguments\u001b[38;5;241m.\u001b[39mget(label_namer)\n\u001b[0;32m   1427\u001b[0m                   \u001b[38;5;129;01mor\u001b[39;00m bound\u001b[38;5;241m.\u001b[39mkwargs\u001b[38;5;241m.\u001b[39mget(label_namer))\n",
      "File \u001b[1;32m~\\AppData\\Local\\Programs\\Python\\Python310\\lib\\site-packages\\matplotlib\\axes\\_axes.py:4509\u001b[0m, in \u001b[0;36mAxes.scatter\u001b[1;34m(self, x, y, s, c, marker, cmap, norm, vmin, vmax, alpha, linewidths, edgecolors, plotnonfinite, **kwargs)\u001b[0m\n\u001b[0;32m   4506\u001b[0m x, y \u001b[38;5;241m=\u001b[39m \u001b[38;5;28mself\u001b[39m\u001b[38;5;241m.\u001b[39m_process_unit_info([(\u001b[38;5;124m\"\u001b[39m\u001b[38;5;124mx\u001b[39m\u001b[38;5;124m\"\u001b[39m, x), (\u001b[38;5;124m\"\u001b[39m\u001b[38;5;124my\u001b[39m\u001b[38;5;124m\"\u001b[39m, y)], kwargs)\n\u001b[0;32m   4507\u001b[0m \u001b[38;5;66;03m# np.ma.ravel yields an ndarray, not a masked array,\u001b[39;00m\n\u001b[0;32m   4508\u001b[0m \u001b[38;5;66;03m# unless its argument is a masked array.\u001b[39;00m\n\u001b[1;32m-> 4509\u001b[0m x \u001b[38;5;241m=\u001b[39m \u001b[43mnp\u001b[49m\u001b[38;5;241;43m.\u001b[39;49m\u001b[43mma\u001b[49m\u001b[38;5;241;43m.\u001b[39;49m\u001b[43mravel\u001b[49m\u001b[43m(\u001b[49m\u001b[43mx\u001b[49m\u001b[43m)\u001b[49m\n\u001b[0;32m   4510\u001b[0m y \u001b[38;5;241m=\u001b[39m np\u001b[38;5;241m.\u001b[39mma\u001b[38;5;241m.\u001b[39mravel(y)\n\u001b[0;32m   4511\u001b[0m \u001b[38;5;28;01mif\u001b[39;00m x\u001b[38;5;241m.\u001b[39msize \u001b[38;5;241m!=\u001b[39m y\u001b[38;5;241m.\u001b[39msize:\n",
      "File \u001b[1;32m~\\AppData\\Local\\Programs\\Python\\Python310\\lib\\site-packages\\numpy\\ma\\core.py:6773\u001b[0m, in \u001b[0;36m_frommethod.__call__\u001b[1;34m(self, a, *args, **params)\u001b[0m\n\u001b[0;32m   6770\u001b[0m     args \u001b[38;5;241m=\u001b[39m \u001b[38;5;28mlist\u001b[39m(args)\n\u001b[0;32m   6771\u001b[0m     a, args[\u001b[38;5;241m0\u001b[39m] \u001b[38;5;241m=\u001b[39m args[\u001b[38;5;241m0\u001b[39m], a\n\u001b[1;32m-> 6773\u001b[0m marr \u001b[38;5;241m=\u001b[39m \u001b[43masanyarray\u001b[49m\u001b[43m(\u001b[49m\u001b[43ma\u001b[49m\u001b[43m)\u001b[49m\n\u001b[0;32m   6774\u001b[0m method_name \u001b[38;5;241m=\u001b[39m \u001b[38;5;28mself\u001b[39m\u001b[38;5;241m.\u001b[39m\u001b[38;5;18m__name__\u001b[39m\n\u001b[0;32m   6775\u001b[0m method \u001b[38;5;241m=\u001b[39m \u001b[38;5;28mgetattr\u001b[39m(\u001b[38;5;28mtype\u001b[39m(marr), method_name, \u001b[38;5;28;01mNone\u001b[39;00m)\n",
      "File \u001b[1;32m~\\AppData\\Local\\Programs\\Python\\Python310\\lib\\site-packages\\numpy\\ma\\core.py:8005\u001b[0m, in \u001b[0;36masanyarray\u001b[1;34m(a, dtype)\u001b[0m\n\u001b[0;32m   8003\u001b[0m \u001b[38;5;28;01mif\u001b[39;00m \u001b[38;5;28misinstance\u001b[39m(a, MaskedArray) \u001b[38;5;129;01mand\u001b[39;00m (dtype \u001b[38;5;129;01mis\u001b[39;00m \u001b[38;5;28;01mNone\u001b[39;00m \u001b[38;5;129;01mor\u001b[39;00m dtype \u001b[38;5;241m==\u001b[39m a\u001b[38;5;241m.\u001b[39mdtype):\n\u001b[0;32m   8004\u001b[0m     \u001b[38;5;28;01mreturn\u001b[39;00m a\n\u001b[1;32m-> 8005\u001b[0m \u001b[38;5;28;01mreturn\u001b[39;00m \u001b[43mmasked_array\u001b[49m\u001b[43m(\u001b[49m\u001b[43ma\u001b[49m\u001b[43m,\u001b[49m\u001b[43m \u001b[49m\u001b[43mdtype\u001b[49m\u001b[38;5;241;43m=\u001b[39;49m\u001b[43mdtype\u001b[49m\u001b[43m,\u001b[49m\u001b[43m \u001b[49m\u001b[43mcopy\u001b[49m\u001b[38;5;241;43m=\u001b[39;49m\u001b[38;5;28;43;01mFalse\u001b[39;49;00m\u001b[43m,\u001b[49m\u001b[43m \u001b[49m\u001b[43mkeep_mask\u001b[49m\u001b[38;5;241;43m=\u001b[39;49m\u001b[38;5;28;43;01mTrue\u001b[39;49;00m\u001b[43m,\u001b[49m\u001b[43m \u001b[49m\u001b[43msubok\u001b[49m\u001b[38;5;241;43m=\u001b[39;49m\u001b[38;5;28;43;01mTrue\u001b[39;49;00m\u001b[43m)\u001b[49m\n",
      "File \u001b[1;32m~\\AppData\\Local\\Programs\\Python\\Python310\\lib\\site-packages\\numpy\\ma\\core.py:2826\u001b[0m, in \u001b[0;36mMaskedArray.__new__\u001b[1;34m(cls, data, mask, dtype, copy, subok, ndmin, fill_value, keep_mask, hard_mask, shrink, order)\u001b[0m\n\u001b[0;32m   2817\u001b[0m \u001b[38;5;124;03m\"\"\"\u001b[39;00m\n\u001b[0;32m   2818\u001b[0m \u001b[38;5;124;03mCreate a new masked array from scratch.\u001b[39;00m\n\u001b[0;32m   2819\u001b[0m \n\u001b[1;32m   (...)\u001b[0m\n\u001b[0;32m   2823\u001b[0m \n\u001b[0;32m   2824\u001b[0m \u001b[38;5;124;03m\"\"\"\u001b[39;00m\n\u001b[0;32m   2825\u001b[0m \u001b[38;5;66;03m# Process data.\u001b[39;00m\n\u001b[1;32m-> 2826\u001b[0m _data \u001b[38;5;241m=\u001b[39m \u001b[43mnp\u001b[49m\u001b[38;5;241;43m.\u001b[39;49m\u001b[43marray\u001b[49m\u001b[43m(\u001b[49m\u001b[43mdata\u001b[49m\u001b[43m,\u001b[49m\u001b[43m \u001b[49m\u001b[43mdtype\u001b[49m\u001b[38;5;241;43m=\u001b[39;49m\u001b[43mdtype\u001b[49m\u001b[43m,\u001b[49m\u001b[43m \u001b[49m\u001b[43mcopy\u001b[49m\u001b[38;5;241;43m=\u001b[39;49m\u001b[43mcopy\u001b[49m\u001b[43m,\u001b[49m\n\u001b[0;32m   2827\u001b[0m \u001b[43m                 \u001b[49m\u001b[43morder\u001b[49m\u001b[38;5;241;43m=\u001b[39;49m\u001b[43morder\u001b[49m\u001b[43m,\u001b[49m\u001b[43m \u001b[49m\u001b[43msubok\u001b[49m\u001b[38;5;241;43m=\u001b[39;49m\u001b[38;5;28;43;01mTrue\u001b[39;49;00m\u001b[43m,\u001b[49m\u001b[43m \u001b[49m\u001b[43mndmin\u001b[49m\u001b[38;5;241;43m=\u001b[39;49m\u001b[43mndmin\u001b[49m\u001b[43m)\u001b[49m\n\u001b[0;32m   2828\u001b[0m _baseclass \u001b[38;5;241m=\u001b[39m \u001b[38;5;28mgetattr\u001b[39m(data, \u001b[38;5;124m'\u001b[39m\u001b[38;5;124m_baseclass\u001b[39m\u001b[38;5;124m'\u001b[39m, \u001b[38;5;28mtype\u001b[39m(_data))\n\u001b[0;32m   2829\u001b[0m \u001b[38;5;66;03m# Check that we're not erasing the mask.\u001b[39;00m\n",
      "File \u001b[1;32m~\\AppData\\Local\\Programs\\Python\\Python310\\lib\\site-packages\\torch\\_tensor.py:955\u001b[0m, in \u001b[0;36mTensor.__array__\u001b[1;34m(self, dtype)\u001b[0m\n\u001b[0;32m    953\u001b[0m     \u001b[38;5;28;01mreturn\u001b[39;00m handle_torch_function(Tensor\u001b[38;5;241m.\u001b[39m__array__, (\u001b[38;5;28mself\u001b[39m,), \u001b[38;5;28mself\u001b[39m, dtype\u001b[38;5;241m=\u001b[39mdtype)\n\u001b[0;32m    954\u001b[0m \u001b[38;5;28;01mif\u001b[39;00m dtype \u001b[38;5;129;01mis\u001b[39;00m \u001b[38;5;28;01mNone\u001b[39;00m:\n\u001b[1;32m--> 955\u001b[0m     \u001b[38;5;28;01mreturn\u001b[39;00m \u001b[38;5;28;43mself\u001b[39;49m\u001b[38;5;241;43m.\u001b[39;49m\u001b[43mnumpy\u001b[49m\u001b[43m(\u001b[49m\u001b[43m)\u001b[49m\n\u001b[0;32m    956\u001b[0m \u001b[38;5;28;01melse\u001b[39;00m:\n\u001b[0;32m    957\u001b[0m     \u001b[38;5;28;01mreturn\u001b[39;00m \u001b[38;5;28mself\u001b[39m\u001b[38;5;241m.\u001b[39mnumpy()\u001b[38;5;241m.\u001b[39mastype(dtype, copy\u001b[38;5;241m=\u001b[39m\u001b[38;5;28;01mFalse\u001b[39;00m)\n",
      "\u001b[1;31mRuntimeError\u001b[0m: Numpy is not available"
     ]
    },
    {
     "data": {
      "image/png": "[encoded data removed]",
      "text/plain": [
       "<Figure size 640x480 with 1 Axes>"
      ]
     },
     "metadata": {},
     "output_type": "display_data"
    }
   ],
   "source": [
    "t_c = [0.5,  14.0, 15.0, 28.0, 11.0,  8.0,  3.0, -4.0,  6.0, 13.0, 21.0]\n",
    "t_u = [35.7, 55.9, 58.2, 81.9, 56.3, 48.9, 33.9, 21.8, 48.4, 60.4, 68.4]\n",
    "t_c = torch.tensor(t_c)\n",
    "t_u = torch.tensor(t_u)\n",
    "\n",
    "fig, ax = plt.subplots()\n",
    "ax.scatter(t_u,t_c);\n",
    "ax.set_xlabel(\"measurement\")\n",
    "ax.set_ylabel(\"temperature (Celsius)\");\n"
   ]
  },
  {
   "cell_type": "markdown",
   "id": "ea91debb-7b8e-4904-adc8-7955dad058e1",
   "metadata": {},
   "source": [
    "Here, the t_c values are temperatures in Celsius, and the t_u values are our unknown units. We can expect noise in both measurements, coming from the devices themselves and from our approximate readings. For convenience, we’ve already put the data into tensors; we’ll use it in a minute."
   ]
  },
  {
   "cell_type": "markdown",
   "id": "aefa8be0-ae6c-4dc1-bcdb-4ae262741a0e",
   "metadata": {},
   "source": [
    "### Setting up the fitting manually\n",
    "In the absence of further knowledge, we will assume a linear model to fit the data and we will assume a squared error loss function (this is the example of linear regression!)"
   ]
  },
  {
   "cell_type": "code",
   "execution_count": null,
   "id": "2d63beb4-48c6-48aa-acc2-cf7a07c30789",
   "metadata": {},
   "outputs": [],
   "source": [
    "def model(t_u, w, b):\n",
    "    return w*t_u + b\n",
    "\n",
    "def loss_fn(t_p, t_c):\n",
    "    squared_diffs = (t_p - t_c)**2\n",
    "    return squared_diffs.mean()\n",
    "\n",
    "# Assume some default values\n",
    "w = torch.ones(())\n",
    "b = torch.zeros(())\n",
    "\n",
    "t_p = model(t_u, w, b)\n",
    "print(t_p)\n",
    "loss = loss_fn(t_p, t_c)\n",
    "print(loss)"
   ]
  },
  {
   "cell_type": "markdown",
   "id": "6a1929a1-f868-4e84-aa4e-3c42bfb48dd2",
   "metadata": {},
   "source": [
    "We need to change the parameters to reduce the loss function and we can do this with **gradient descent**. The gradient of the loss function with respect to the parameters tells us if we need to increase the parameter estimate by a small increment (+ve gradient) or decrease the parameter by a small increment (-ve gradient). In this case we can actually derive the gradient function analytically easily and code it up. The code below calculates the gradient of the loss function and illustrates the training loop where we fit the parameters. The parameter updates are scaled along the gradient by the **learning rate**."
   ]
  },
  {
   "cell_type": "code",
   "execution_count": null,
   "id": "6e46246e-1e7b-4a93-a021-02fdafc8fbc9",
   "metadata": {},
   "outputs": [],
   "source": [
    "def dloss_fn(t_p, t_c):\n",
    "    dsq_diffs = 2* (t_p - t_c) / t_p.size(0)\n",
    "    return dsq_diffs\n",
    "\n",
    "def dmodel_dw(t_u, w, b):\n",
    "    return t_u\n",
    "\n",
    "def dmodel_db(t_u, w, b):\n",
    "    return 1.0\n",
    "\n",
    "# This is the full gradient function\n",
    "def grad_fn(t_u, t_c, t_p, w, b):\n",
    "    dloss_dtp = dloss_fn(t_p, t_c)\n",
    "    dloss_dw = dloss_dtp * dmodel_dw(t_u, w, b)\n",
    "    dloss_db = dloss_dtp * dmodel_db(t_u, w, b)\n",
    "    return torch.stack([dloss_dw.sum(), dloss_db.sum()])\n",
    "\n",
    "# The learning rate is how much to move along the gradient\n",
    "def training_loop(n_epochs, learning_rate, params, t_u, t_c, pout=10):\n",
    "    for epoch in range(1, n_epochs + 1):\n",
    "        w, b = params\n",
    " \n",
    "        t_p = model(t_u, w, b)\n",
    "        loss = loss_fn(t_p, t_c)\n",
    "        grad = grad_fn(t_u, t_c, t_p, w, b)\n",
    " \n",
    "        params = params - learning_rate * grad\n",
    " \n",
    "        # Print values at first epoch and then every 10 epochs\n",
    "        if epoch == 1 or epoch%pout == 0:\n",
    "            print('Epoch %d, Loss %f' % (epoch, float(loss)))\n",
    "            print('\\tparams:', params)\n",
    "            print('\\tgrad:', grad)\n",
    " \n",
    "    return params\n",
    "\n",
    "# Run the training loop\n",
    "training_loop(n_epochs = 100, learning_rate = 1e-4, params = torch.tensor([1.0, 0.0]), t_u = t_u, t_c = t_c)\n"
   ]
  },
  {
   "cell_type": "markdown",
   "id": "1973125f-7aef-415e-9b75-3f8f0870c2bb",
   "metadata": {},
   "source": [
    "We can see the gradients decreasing and the behaviour is stable (ie the parameters appear to be converging). Try increasing the learning rate to 1e-2! See what happens.\n",
    "\n",
    "There is another problem, if you look at the gradients for the two parameters you can see that they have very different scales. This is a problem since we scale the steps in terms of the same learning rate. We can solve this by scaling the data (approximately for illustrative purposes). This also allows us to increase the learning rate."
   ]
  },
  {
   "cell_type": "code",
   "execution_count": null,
   "id": "00afd8f8-1547-4698-ac82-2751002f57f2",
   "metadata": {},
   "outputs": [],
   "source": [
    "t_un = 0.1 *t_u\n",
    "training_loop(n_epochs = 100, learning_rate = 1e-2, params = torch.tensor([1.0, 0.0]), t_u = t_un, t_c = t_c)"
   ]
  },
  {
   "cell_type": "markdown",
   "id": "9c63b6b8-3e49-4d6b-9d0c-132b3b4e5cac",
   "metadata": {},
   "source": [
    "OK let's run over 5000 epochs to fit the model and visualise the fit"
   ]
  },
  {
   "cell_type": "code",
   "execution_count": null,
   "id": "080094ec-7af7-4c65-ab13-0cb6f6100cd5",
   "metadata": {
    "tags": []
   },
   "outputs": [],
   "source": [
    "params = training_loop(n_epochs = 5000, learning_rate = 1e-2, params = torch.tensor([1.0, 0.0]), t_u = t_un, t_c = t_c, pout=1000)\n",
    "\n",
    "# this uses unpacking and is equivalent model(t_un, params[0], params[1])\n",
    "t_p = model(t_un, *params)\n",
    " \n",
    "fig, ax = plt.subplots()\n",
    "plt.xlabel(\"Temperature (°Fahrenheit)\")\n",
    "plt.ylabel(\"Temperature (°Celsius)\")\n",
    "plt.plot(t_u.numpy(), t_p.detach().numpy())\n",
    "plt.plot(t_u.numpy(), t_c.numpy(), 'o');"
   ]
  },
  {
   "cell_type": "markdown",
   "id": "ad12fde3-621f-4e0e-b971-e9450eb2ae3d",
   "metadata": {
    "tags": []
   },
   "source": [
    "Our linear model is a good model for the data, it seems. It also seems our measurements are somewhat erratic with large error. We should either call our optometrist for a new pair of glasses or think about returning our fancy thermometer!"
   ]
  },
  {
   "cell_type": "markdown",
   "id": "92df4969-854c-4f72-9550-c83419f9e631",
   "metadata": {},
   "source": [
    "### Setting up the fitting using `autograd`\n",
    "Rather than calculating the gradients by hand we can do this automatically. Here is the updated code:"
   ]
  },
  {
   "cell_type": "code",
   "execution_count": null,
   "id": "b1a8cfc7-a109-40d6-8c4c-e1bff7aaab27",
   "metadata": {
    "tags": []
   },
   "outputs": [],
   "source": [
    "def training_loop(n_epochs, learning_rate, params, t_u, t_c):\n",
    "    for epoch in range(1, n_epochs + 1):\n",
    "        if params.grad is not None:               \n",
    "            params.grad.zero_()\n",
    " \n",
    "        t_p = model(t_u, *params)\n",
    "        loss = loss_fn(t_p, t_c)\n",
    "        loss.backward()\n",
    " \n",
    "        with torch.no_grad():                     \n",
    "            params -= learning_rate * params.grad\n",
    " \n",
    "        if epoch % 500 == 0:\n",
    "            print('Epoch %d, Loss %f' % (epoch, float(loss)))\n",
    " \n",
    "    return params\n",
    "\n",
    "params = torch.tensor([1.0, 0.0], requires_grad=True)\n",
    "training_loop(n_epochs = 5000, learning_rate = 1e-2, params = params, t_u = t_un, t_c = t_c)"
   ]
  },
  {
   "cell_type": "markdown",
   "id": "3c487067-094c-479e-924e-e0c2534ae8bf",
   "metadata": {
    "tags": []
   },
   "source": [
    "There are a number of things to understand:\n",
    "1) We tell PyTorch that we want the parameter tensor to calculate (or hold) the gradient information.\n",
    "2) Inside the loop we zero the gradient information in each epoch.\n",
    "3) We call the `backward` method on the loss function which automatically calculates the gradients of the loss function wrt the param tensor\n",
    "4) In the parameter update step we do not want to change the gradients so we use the `no_grad()` context"
   ]
  },
  {
   "cell_type": "markdown",
   "id": "9e83b784-05f8-4e93-b67e-a5661ac02295",
   "metadata": {},
   "source": [
    "### Using inbuilt optimisers\n",
    "In practice we would not implement the updating of the parameters by hand but use an inbuilt optimiser. In the code below, we modify the training loop to use a stochastic gradient descent optimiser and call the `step` method. "
   ]
  },
  {
   "cell_type": "code",
   "execution_count": null,
   "id": "e06c8385-6b60-49c8-809f-403c0dc663d8",
   "metadata": {},
   "outputs": [],
   "source": [
    "import torch.optim as optim\n",
    "\n",
    "def training_loop(n_epochs, optimizer, params, t_u, t_c):\n",
    "    for epoch in range(1, n_epochs + 1):\n",
    "        t_p = model(t_u, *params)\n",
    "        loss = loss_fn(t_p, t_c)\n",
    "\n",
    "        optimizer.zero_grad()\n",
    "        loss.backward()\n",
    "        optimizer.step()\n",
    "\n",
    "        if epoch % 500 == 0:\n",
    "            print('Epoch %d, Loss %f' % (epoch, float(loss)))\n",
    "\n",
    "    return params\n",
    "\n",
    "# In[10]:\n",
    "params = torch.tensor([1.0, 0.0], requires_grad=True)\n",
    "learning_rate = 1e-2\n",
    "optimizer = optim.SGD([params], lr=learning_rate)\n",
    "\n",
    "training_loop(n_epochs = 5000, optimizer = optimizer, params = params, t_u = t_un, t_c = t_c)"
   ]
  },
  {
   "cell_type": "markdown",
   "id": "81d36daf-b64d-42d6-8905-32f49dd3b955",
   "metadata": {},
   "source": [
    "### Doing the training and testing together \n",
    "We need to create a test and training set. In deep learning we rarely do cross-validation due to the computation required for large models. Below we do a single test-train split (and we could use scikit-learn)"
   ]
  },
  {
   "cell_type": "code",
   "execution_count": null,
   "id": "a4d6abb0-d19b-4a60-b6c2-6a07a81d7b71",
   "metadata": {},
   "outputs": [],
   "source": [
    "n_samples = t_u.shape[0]\n",
    "n_val = int(0.2 * n_samples) # this gives a test set of 20%\n",
    " \n",
    "shuffled_indices = torch.randperm(n_samples)\n",
    " \n",
    "train_indices = shuffled_indices[:-n_val]\n",
    "val_indices = shuffled_indices[-n_val:]\n",
    "print(train_indices, val_indices)\n",
    "\n",
    "train_t_u = t_u[train_indices]\n",
    "train_t_c = t_c[train_indices]\n",
    " \n",
    "val_t_u = t_u[val_indices]\n",
    "val_t_c = t_c[val_indices]\n",
    " \n",
    "train_t_un = 0.1 * train_t_u\n",
    "val_t_un = 0.1 * val_t_u\n"
   ]
  },
  {
   "cell_type": "markdown",
   "id": "1eccefab-5fb6-4071-96fe-c0dab69e145e",
   "metadata": {},
   "source": [
    "The standard approach is to calculate the loss on the train and test datasets as a function of the epoch. The following code does this:"
   ]
  },
  {
   "cell_type": "code",
   "execution_count": null,
   "id": "899a08d0-d592-4f63-a4d0-46122b09b8af",
   "metadata": {},
   "outputs": [],
   "source": [
    "def training_loop(n_epochs, optimizer, params, train_t_u, val_t_u,\n",
    "                  train_t_c, val_t_c):\n",
    "    for epoch in range(1, n_epochs + 1):\n",
    "        train_t_p = model(train_t_u, *params)     \n",
    "        train_loss = loss_fn(train_t_p, train_t_c)\n",
    " \n",
    "        # this ensures that autodiff is not called when evaluating the test performance\n",
    "        with torch.no_grad():   \n",
    "            val_t_p = model(val_t_u, *params)           \n",
    "            val_loss = loss_fn(val_t_p, val_t_c)\n",
    " \n",
    "        optimizer.zero_grad()\n",
    "        train_loss.backward()                     \n",
    "        optimizer.step()\n",
    " \n",
    "        if epoch <= 3 or epoch % 500 == 0:\n",
    "            print(f\"Epoch {epoch}, Training loss {train_loss.item():.4f},\"\n",
    "                  f\" Validation loss {val_loss.item():.4f}\")\n",
    " \n",
    "    return params\n",
    "\n",
    "# In[15]:\n",
    "params = torch.tensor([1.0, 0.0], requires_grad=True)\n",
    "learning_rate = 1e-2\n",
    "optimizer = optim.SGD([params], lr=learning_rate)\n",
    " \n",
    "training_loop(n_epochs = 5000, optimizer = optimizer, params = params,\n",
    "        train_t_u = train_t_un, val_t_u = val_t_un, train_t_c = train_t_c, val_t_c = val_t_c)\n",
    " "
   ]
  },
  {
   "cell_type": "markdown",
   "id": "b8d804f5-c45c-4d6c-ae09-82d86ceae634",
   "metadata": {
    "tags": []
   },
   "source": [
    "### Modelling tasks (1)\n",
    "Redefine the model to be a quadratic ie w2 * t_u ** 2 + w1 * t_u + b.\n",
    "\n",
    "1. What parts of the training loop, and so on, need to change to accommodate this redefinition?\n",
    "\n",
    "2. What parts are agnostic to swapping out the model?\n",
    "\n",
    "3. Is the resulting loss higher or lower after training?\n",
    "\n",
    "4. Is the actual result better or worse?"
   ]
  },
  {
   "cell_type": "markdown",
   "id": "03b63226-a0a1-49bc-93e0-4cc3d5477225",
   "metadata": {},
   "source": [
    "## Using a neural network to fit the data\n",
    "So far, we’ve taken a close look at how a linear model can learn and how to make that happen in PyTorch. We’ve focused on a very simple regression problem that used a linear model with only one input and one output. Such a simple example allowed us to dissect the mechanics of a model that learns, without getting overly distracted by the implementation of the model itself. \n",
    "\n",
    "### Using the neural network module `nn`\n",
    "For a full introduction to the neural network module you can refer to section 6.2 of Stevens and Antiga. You can also look at the PyTorch documentation that gives a list of all the different layers that are implmented: https://pytorch.org/docs/stable/nn.html. Here I just want to give you a sense of how it is used. \n",
    "\n",
    "To recreate our temperature calibration example, we can define a linear neural network with one input feature and one output feature using `nn.Linear(1,1)`. We can also use the `MSELoss` function defined in the module."
   ]
  },
  {
   "cell_type": "code",
   "execution_count": null,
   "id": "480eeaed-3174-4225-beff-c6bd442a56ca",
   "metadata": {
    "tags": []
   },
   "outputs": [],
   "source": [
    "import torch.nn as nn\n",
    "\n",
    "def training_loop(n_epochs, optimizer, model, loss_fn, t_u_train, t_u_val, t_c_train, t_c_val):\n",
    "    for epoch in range(1, n_epochs + 1):\n",
    "        t_p_train = model(t_u_train)                 \n",
    "        loss_train = loss_fn(t_p_train, t_c_train)\n",
    "\n",
    "        with torch.no_grad():  \n",
    "            t_p_val = model(t_u_val)                    \n",
    "            loss_val = loss_fn(t_p_val, t_c_val)\n",
    " \n",
    "        optimizer.zero_grad()\n",
    "        loss_train.backward()                       \n",
    "        optimizer.step()\n",
    " \n",
    "        if epoch == 1 or epoch % 1000 == 0:\n",
    "            print(f\"Epoch {epoch}, Training loss {loss_train.item():.4f},\"\n",
    "                  f\" Validation loss {loss_val.item():.4f}\")\n",
    "            \n",
    "            \n",
    "linear_model = nn.Linear(1, 1)\n",
    "optimizer = optim.SGD(linear_model.parameters(), lr=1e-2)\n",
    "\n",
    "# Need to convert the data into batches as this is how the nn module expects data.\n",
    "# Splitting data up into batches is very common.\n",
    "# Here we reshape our B samples into a tensor of B x Nin where Nin = 1, ie each data point is a batch of 1\n",
    "t_un_train = train_t_un.unsqueeze(1)      \n",
    "t_un_val = val_t_un.unsqueeze(1)      \n",
    "t_c_train = train_t_c.unsqueeze(1)      \n",
    "t_c_val = val_t_c.unsqueeze(1)  \n",
    "                    \n",
    "print( t_un_train.shape )\n",
    "print( t_c_train.shape )\n",
    "    \n",
    "training_loop( n_epochs = 5000, optimizer = optimizer, model = linear_model, loss_fn = nn.MSELoss(), \n",
    "              t_u_train = t_un_train, t_u_val = t_un_val, t_c_train = t_c_train, t_c_val = t_c_val)\n",
    " \n",
    "print()\n",
    "print(linear_model.weight)\n",
    "print(linear_model.bias)"
   ]
  },
  {
   "attachments": {
    "c909d65c-ee9a-4c82-9dc0-d8ac182b1248.png": {
     "image/png": "[encoded data removed]"
    }
   },
   "cell_type": "markdown",
   "id": "28aeb118-33b5-4794-9b0c-862b7a0c0780",
   "metadata": {
    "tags": []
   },
   "source": [
    "### Fitting a neural network\n",
    "Now we are already using the `nn` module defining a new network is simple. We stack layers on top of each other using `nn.Sequential` to acheive the following network:\n",
    "![CH06_F08_Stevens2_GS.png](attachment:c909d65c-ee9a-4c82-9dc0-d8ac182b1248.png)"
   ]
  },
  {
   "cell_type": "code",
   "execution_count": null,
   "id": "81f5fbc5-30a5-485b-b33d-04da5a87c2fe",
   "metadata": {
    "tags": []
   },
   "outputs": [],
   "source": [
    "seq_model = nn.Sequential(\n",
    "            nn.Linear(1, 13), \n",
    "            nn.Tanh(),\n",
    "            nn.Linear(13, 1))\n",
    "print(seq_model)"
   ]
  },
  {
   "cell_type": "markdown",
   "id": "2be7e5bb-5c3c-4128-8019-af108a1e7f20",
   "metadata": {},
   "source": [
    "It is useful to extract the parameters of the network so that we cna see how they are stored: weights, bias for the connections to the first layer then weights and bias for the connections to the output layer."
   ]
  },
  {
   "cell_type": "code",
   "execution_count": null,
   "id": "9b2dbf6c-9f0d-4e1c-a291-74f59b4656c0",
   "metadata": {
    "tags": []
   },
   "outputs": [],
   "source": [
    "[param.shape for param in seq_model.parameters()]"
   ]
  },
  {
   "cell_type": "markdown",
   "id": "6dc462d0-3f8f-4269-a0f9-297b205d028b",
   "metadata": {},
   "source": [
    "We can now run our code on the new model"
   ]
  },
  {
   "cell_type": "code",
   "execution_count": null,
   "id": "13e68b94-6858-4092-a237-7b34b02a0541",
   "metadata": {},
   "outputs": [],
   "source": [
    "optimizer = optim.SGD(seq_model.parameters(), lr=1e-3)\n",
    " \n",
    "training_loop(\n",
    "    n_epochs = 5000,\n",
    "    optimizer = optimizer,\n",
    "    model = seq_model,\n",
    "    loss_fn = nn.MSELoss(),\n",
    "    t_u_train = t_un_train,\n",
    "    t_u_val = t_un_val,\n",
    "    t_c_train = t_c_train,\n",
    "    t_c_val = t_c_val)\n",
    " \n",
    "print('output', seq_model(t_un_val))\n",
    "print('answer', t_c_val)"
   ]
  },
  {
   "cell_type": "markdown",
   "id": "7b61daee-06cd-45e0-af98-ab3c43109ee9",
   "metadata": {},
   "source": [
    "### Visualising the fit\n",
    "Let's visualise the resultant fit. We can appreciate that the neural network has a tendency to overfit, as we discussed in chapter 5, since it tries to chase the measurements, including the noisy ones. Even our tiny neural network has too many parameters to fit the few measurements we have. It doesn’t do a bad job, though, overall."
   ]
  },
  {
   "cell_type": "code",
   "execution_count": null,
   "id": "189770bd-ed68-407a-80ba-d7214102a609",
   "metadata": {},
   "outputs": [],
   "source": [
    "t_range = torch.arange(20., 90.).unsqueeze(1)\n",
    "#print(t_range.shape)\n",
    "\n",
    "fig, ax = plt.subplots()\n",
    "plt.xlabel(\"Temperature (°Fahrenheit)\")\n",
    "plt.ylabel(\"Temperature (°Celsius)\")\n",
    "plt.plot(t_u.numpy(), t_c.numpy(), 'o')\n",
    "plt.plot(t_range.numpy(), seq_model(0.1 * t_range).detach().numpy(), 'c-');"
   ]
  },
  {
   "cell_type": "markdown",
   "id": "0d1c8a93-bcf3-47db-9e80-27d375569b97",
   "metadata": {
    "tags": []
   },
   "source": [
    "### Modelling tasks (2)\n",
    "Experiment with the number of hidden neurons in our simple neural network model, as well as the learning rate.\n",
    "1) What changes result in more linear output from the model? <br>\n",
    "2) Can you get the model to obviously overfit the data?"
   ]
  },
  {
   "cell_type": "markdown",
   "id": "91b2a00c-5623-4c4a-960b-ce7bab26a9b9",
   "metadata": {},
   "source": [
    "## Summary\n",
    "We’ve covered a lot in this lesson, although we have been dealing with a very simple problem. We dissected building differentiable models and training them using gradient descent, first using raw `autograd` and then relying on `nn`. By now you should have some confidence in your understanding of what’s going on behind the scenes. Hopefully this taste of PyTorch has given you an appetite for more!\n",
    "\n",
    "**Points**:\n",
    "- Neural networks can be automatically adapted to specialize themselves on the problem at hand.\n",
    "\n",
    "- Neural networks allow easy access to the analytical derivatives of the loss with respect to any parameter in the model, which makes evolving the parameters very efficient. Thanks to its automated differentiation engine, PyTorch provides such derivatives effortlessly.\n",
    "\n",
    "- Activation functions around linear transformations make neural networks capable of approximating highly nonlinear functions, at the same time keeping them simple enough to optimize.\n",
    "\n",
    "- The nn module together with the tensor standard library provide all the building blocks for creating neural networks.\n",
    "\n",
    "- To recognize overfitting, it’s essential to maintain the training set of data points separate from the validation set. There’s no one recipe to combat overfitting, but getting more data, or more variability in the data, and resorting to simpler models are good starts.\n"
   ]
  },
  {
   "cell_type": "markdown",
   "id": "7ab947bb-3fc6-491a-8981-cbea75abbf21",
   "metadata": {
    "tags": []
   },
   "source": [
    "### Modelling tasks (3): Wine quality\n",
    "The Wine Quality dataset is a freely available table containing chemical characterizations of samples of vinho verde, a wine from north Portugal, together with a sensory quality score. The dataset for white wines can be downloaded here: http://mng.bz/90Ol. The file contains a comma-separated collection of values organized in 12 columns preceded by a header line containing the column names. The first 11 columns contain values of chemical variables, and the last column contains the sensory quality score from 0 (very bad) to 10 (excellent). The goal is to predict the quality of wine from the chemical properties. Note we will treat this as a regression problem rather than classification.\n",
    "\n",
    "1) Load the wine data. Use scikit-learn to define a train-test split and scale the X data. \n",
    "2) Create a new model with the appropriate number of input parameters\n",
    "3) Use the training loop below to fit your new model\n",
    "4) Make a plot of the quality predictions\n",
    "5) Modify the function below to plot the training and test loss as a function of epoch\n",
    "6) Experiment with different models. You can explore different numbers of units, different activation functions and learning rates.\n",
    "7) Try and add another hidden layer with ReLU activation"
   ]
  },
  {
   "cell_type": "code",
   "execution_count": null,
   "id": "e8492d46-326b-4545-a2ee-fdb153548b5e",
   "metadata": {},
   "outputs": [],
   "source": [
    "### New training loop code to use\n",
    "\n",
    "def training_loop_cb(n_epochs, optimizer, model, loss_fn, tX_train, tY_train, tX_test, tY_test):\n",
    "    for epoch in range(1, n_epochs + 1):\n",
    "        pred_train = model(tX_train)                 \n",
    "        loss_train = loss_fn(pred_train, tY_train)\n",
    "\n",
    "        with torch.no_grad():  \n",
    "            pred_test = model(tX_test)                    \n",
    "            loss_test = loss_fn(pred_test, tY_test)\n",
    " \n",
    "        optimizer.zero_grad()\n",
    "        loss_train.backward()                       \n",
    "        optimizer.step()\n",
    " \n",
    "        if epoch == 1 or epoch % 1000 == 0:\n",
    "            print(f\"Epoch {epoch}, Training loss {loss_train.item():.4f},\"\n",
    "                  f\" Validation loss {loss_test.item():.4f}\")\n"
   ]
  }
 ],
 "metadata": {
  "kernelspec": {
   "display_name": "Python 3 (ipykernel)",
   "language": "python",
   "name": "python3"
  },
  "language_info": {
   "codemirror_mode": {
    "name": "ipython",
    "version": 3
   },
   "file_extension": ".py",
   "mimetype": "text/x-python",
   "name": "python",
   "nbconvert_exporter": "python",
   "pygments_lexer": "ipython3",
   "version": "3.10.8"
  }
 },
 "nbformat": 4,
 "nbformat_minor": 5
}
